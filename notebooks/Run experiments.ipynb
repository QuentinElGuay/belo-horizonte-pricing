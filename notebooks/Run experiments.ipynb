{
 "cells": [
  {
   "cell_type": "markdown",
   "id": "b5d9fd1f-b30f-445c-9a37-8e62af7bc45e",
   "metadata": {},
   "source": [
    "# Introduction\n",
    "This notebook presents the scenario a data scientist working on the creation of a `price prediction model` for the `House Pricing in Belo Horizonte` dataset based on our `Exploratory Data Analysis`.\n",
    "\n",
    "This is a research phase where `mlflow` is used to manually track experiments and decide on a model to run in `production`."
   ]
  },
  {
   "cell_type": "code",
   "execution_count": 1,
   "id": "91e98915-c613-4bf7-9494-6795e9ebf0dc",
   "metadata": {},
   "outputs": [],
   "source": [
    "import logging\n",
    "from os import getenv\n",
    "\n",
    "from hyperopt import fmin, tpe, hp, STATUS_OK, Trials\n",
    "from hyperopt.pyll import scope\n",
    "import mlflow\n",
    "import numpy as np\n",
    "import pandas as pd\n",
    "from sklearn.compose import ColumnTransformer, TransformedTargetRegressor\n",
    "from sklearn.discriminant_analysis import StandardScaler\n",
    "from sklearn.feature_extraction import DictVectorizer\n",
    "from sklearn.linear_model import ElasticNet, Lasso, LinearRegression, Ridge\n",
    "from sklearn.metrics import root_mean_squared_error\n",
    "from sklearn.model_selection import train_test_split\n",
    "from sklearn.pipeline import FunctionTransformer, Pipeline, make_pipeline\n",
    "\n",
    "from library.dataset import get_dataset, split_test_dataset\n",
    "from library.serve import predict\n",
    "from library.train import train_simple_linear_regression"
   ]
  },
  {
   "cell_type": "code",
   "execution_count": 2,
   "id": "4e223ac6-6491-4eec-a3cf-9baed276003e",
   "metadata": {},
   "outputs": [],
   "source": [
    "DATASET_PATH = '../data/data_kaggle_2021.csv'\n",
    "EXPERIMENT_NAME = 'regression_belo_horizonte_2021'\n",
    "EXPERIMENT_DESCRIPTION = 'Regression model to predict the price of a real estate property in Belo Horizonte, Brasil '\\\n",
    "    'using the Kaggle Dataset from 2021.'\n",
    "RANDOM_STATE = 42\n",
    "TRACKING_SERVER_URI = getenv('TRACKING_SERVER_URI', 'http://localhost:5000')\n",
    "\n",
    "logging.basicConfig(level=logging.INFO)"
   ]
  },
  {
   "cell_type": "markdown",
   "id": "a5382401-e271-487f-80c4-ef73522c7e69",
   "metadata": {},
   "source": [
    "## Download the dataset and clean it for training"
   ]
  },
  {
   "cell_type": "code",
   "execution_count": 3,
   "id": "e57bc323-4e91-40c4-a9cd-a36a06a6e16a",
   "metadata": {
    "scrolled": true
   },
   "outputs": [
    {
     "name": "stderr",
     "output_type": "stream",
     "text": [
      "INFO:library.dataset:Reading file ../data/data_kaggle_2021.csv\n",
      "INFO:library.dataset:The dataset ../data/data_kaggle_2021.csv contains 5981 rows.\n",
      "INFO:library.dataset:Cleaning the dataset:\n",
      "INFO:library.dataset:Dropping duplicates...\n",
      "INFO:library.dataset:   Dropped 0 duplicated rows.\n",
      "INFO:library.dataset:Standardizing the column names...\n",
      "INFO:library.dataset:Converting the numeric variables received as text...\n",
      "INFO:library.dataset:Removing outliers...\n",
      "INFO:library.dataset:  Removed 793 rows containing outliers.\n",
      "INFO:library.dataset:Number of rows after cleaning the dataset: 5188\n"
     ]
    },
    {
     "data": {
      "text/html": [
       "<div>\n",
       "<style scoped>\n",
       "    .dataframe tbody tr th:only-of-type {\n",
       "        vertical-align: middle;\n",
       "    }\n",
       "\n",
       "    .dataframe tbody tr th {\n",
       "        vertical-align: top;\n",
       "    }\n",
       "\n",
       "    .dataframe thead th {\n",
       "        text-align: right;\n",
       "    }\n",
       "</style>\n",
       "<table border=\"1\" class=\"dataframe\">\n",
       "  <thead>\n",
       "    <tr style=\"text-align: right;\">\n",
       "      <th></th>\n",
       "      <th>address</th>\n",
       "      <th>adm_fees</th>\n",
       "      <th>garage_places</th>\n",
       "      <th>price</th>\n",
       "      <th>rooms</th>\n",
       "      <th>square_foot</th>\n",
       "      <th>neighborhood</th>\n",
       "      <th>city</th>\n",
       "      <th>latitude</th>\n",
       "      <th>longitude</th>\n",
       "    </tr>\n",
       "  </thead>\n",
       "  <tbody>\n",
       "    <tr>\n",
       "      <th>0</th>\n",
       "      <td>Avenida Raja Gabaglia, 1583</td>\n",
       "      <td>470.0</td>\n",
       "      <td>1</td>\n",
       "      <td>330000.0</td>\n",
       "      <td>1</td>\n",
       "      <td>40</td>\n",
       "      <td>Luxemburgo</td>\n",
       "      <td>Belo Horizonte</td>\n",
       "      <td>-19.936415</td>\n",
       "      <td>-43.953396</td>\n",
       "    </tr>\n",
       "    <tr>\n",
       "      <th>1</th>\n",
       "      <td>Rua Espírito Santo, 1171</td>\n",
       "      <td>0.0</td>\n",
       "      <td>1</td>\n",
       "      <td>480000.0</td>\n",
       "      <td>2</td>\n",
       "      <td>55</td>\n",
       "      <td>Centro</td>\n",
       "      <td>Belo Horizonte</td>\n",
       "      <td>-18.864776</td>\n",
       "      <td>-41.121777</td>\n",
       "    </tr>\n",
       "    <tr>\n",
       "      <th>2</th>\n",
       "      <td>Rua dos Expedicionários, 1082</td>\n",
       "      <td>0.0</td>\n",
       "      <td>5</td>\n",
       "      <td>1190000.0</td>\n",
       "      <td>4</td>\n",
       "      <td>411</td>\n",
       "      <td>Santa Amélia</td>\n",
       "      <td>Belo Horizonte</td>\n",
       "      <td>-20.225241</td>\n",
       "      <td>-44.397780</td>\n",
       "    </tr>\n",
       "    <tr>\n",
       "      <th>3</th>\n",
       "      <td>Rua Marechal Hermes, 81</td>\n",
       "      <td>750.0</td>\n",
       "      <td>4</td>\n",
       "      <td>1590000.0</td>\n",
       "      <td>4</td>\n",
       "      <td>158</td>\n",
       "      <td>Gutierrez</td>\n",
       "      <td>Belo Horizonte</td>\n",
       "      <td>-19.937155</td>\n",
       "      <td>-43.958694</td>\n",
       "    </tr>\n",
       "    <tr>\n",
       "      <th>4</th>\n",
       "      <td>Rua Juruna, 110</td>\n",
       "      <td>0.0</td>\n",
       "      <td>6</td>\n",
       "      <td>550000.0</td>\n",
       "      <td>3</td>\n",
       "      <td>278</td>\n",
       "      <td>Pindorama</td>\n",
       "      <td>Belo Horizonte</td>\n",
       "      <td>-19.912982</td>\n",
       "      <td>-44.019944</td>\n",
       "    </tr>\n",
       "  </tbody>\n",
       "</table>\n",
       "</div>"
      ],
      "text/plain": [
       "                          address  adm_fees  garage_places      price  rooms  \\\n",
       "0    Avenida Raja Gabaglia, 1583      470.0              1   330000.0      1   \n",
       "1       Rua Espírito Santo, 1171        0.0              1   480000.0      2   \n",
       "2  Rua dos Expedicionários, 1082        0.0              5  1190000.0      4   \n",
       "3        Rua Marechal Hermes, 81      750.0              4  1590000.0      4   \n",
       "4                Rua Juruna, 110        0.0              6   550000.0      3   \n",
       "\n",
       "   square_foot  neighborhood             city   latitude  longitude  \n",
       "0           40    Luxemburgo  Belo Horizonte  -19.936415 -43.953396  \n",
       "1           55        Centro  Belo Horizonte  -18.864776 -41.121777  \n",
       "2          411  Santa Amélia  Belo Horizonte  -20.225241 -44.397780  \n",
       "3          158     Gutierrez  Belo Horizonte  -19.937155 -43.958694  \n",
       "4          278     Pindorama  Belo Horizonte  -19.912982 -44.019944  "
      ]
     },
     "execution_count": 3,
     "metadata": {},
     "output_type": "execute_result"
    }
   ],
   "source": [
    "df, variables = get_dataset(DATASET_PATH)\n",
    "\n",
    "df.head()"
   ]
  },
  {
   "cell_type": "markdown",
   "id": "a82873cc-57ee-4cd4-84c5-cdafa14ab501",
   "metadata": {},
   "source": [
    "## Create an experiment in mlflow"
   ]
  },
  {
   "cell_type": "code",
   "execution_count": 4,
   "id": "a734a28a-a34d-4105-b008-6d016d37a194",
   "metadata": {},
   "outputs": [],
   "source": [
    "mlflow.set_tracking_uri(TRACKING_SERVER_URI)\n",
    "mlflow.set_experiment(EXPERIMENT_NAME)\n",
    "mlflow.set_experiment_tag('mlflow.note.content',EXPERIMENT_DESCRIPTION)"
   ]
  },
  {
   "cell_type": "markdown",
   "id": "bd3e7ee2-70ff-4c17-a303-1e7a35994851",
   "metadata": {},
   "source": [
    "## Split our data into train and test datasets\n",
    "We will save our 20% of our dataset to test and compare the future models."
   ]
  },
  {
   "cell_type": "code",
   "execution_count": 5,
   "id": "275b53fb-7862-4d24-a89b-21ffc43d249d",
   "metadata": {},
   "outputs": [
    {
     "name": "stderr",
     "output_type": "stream",
     "text": [
      "INFO:library.dataset:Splitting the dataset\n",
      "INFO:library.dataset:   Split the dataset into datasets of 4150 and 1038 rows.\n"
     ]
    }
   ],
   "source": [
    "df_train, df_test = split_test_dataset(df, 0.2, RANDOM_STATE)"
   ]
  },
  {
   "cell_type": "markdown",
   "id": "5086c454-b995-4ed1-897a-56bd7232ae8c",
   "metadata": {},
   "source": [
    "## Train our base model\n",
    "Train a simple linear regression for future reference."
   ]
  },
  {
   "cell_type": "code",
   "execution_count": 7,
   "id": "8d9fcc48-795a-49f0-8252-1f850d59ff27",
   "metadata": {},
   "outputs": [],
   "source": [
    "model_uri = train_simple_linear_regression(df_train, variables)"
   ]
  },
  {
   "cell_type": "markdown",
   "id": "6fdb6fe8-c281-4532-b8c7-f4c94fe36079",
   "metadata": {},
   "source": [
    "## Add the model to the model registry\n",
    "We will register our base model in the model registry and give it the `@base` alias. Since it is also our only model, it is also our de facto `@champion`. This way, we will have future challengers try and defeat it."
   ]
  },
  {
   "cell_type": "code",
   "execution_count": 8,
   "id": "1a6f48ea-1952-47d1-9833-1892b7b89624",
   "metadata": {},
   "outputs": [
    {
     "name": "stderr",
     "output_type": "stream",
     "text": [
      "Registered model 'belo_horizonte_price_regression' already exists. Creating a new version of this model...\n",
      "2024/07/31 21:53:30 INFO mlflow.store.model_registry.abstract_store: Waiting up to 300 seconds for model version to finish creation. Model name: belo_horizonte_price_regression, version 2\n",
      "Created version '2' of model 'belo_horizonte_price_regression'.\n"
     ]
    }
   ],
   "source": [
    "MODEL_NAME = 'belo_horizonte_price_regression'\n",
    "registered_model = mlflow.register_model(\n",
    "    model_uri=model_uri,\n",
    "    name=MODEL_NAME,\n",
    "    tags={'mlflow.user': 'Quentin El Guay'}\n",
    ")\n",
    "\n",
    "client = mlflow.MlflowClient()\n",
    "client.set_registered_model_alias(registered_model.name, 'base', registered_model.version)\n",
    "client.set_registered_model_alias(registered_model.name, 'champion', registered_model.version)"
   ]
  },
  {
   "cell_type": "code",
   "execution_count": 18,
   "id": "9c21eb45-0c66-4ccd-a9d6-079a1119c89d",
   "metadata": {},
   "outputs": [
    {
     "name": "stdout",
     "output_type": "stream",
     "text": [
      "  adm_fees neighborhood square_foot rooms garage_places\n",
      "0               Miramar          79     2            --\n",
      "                                     address  adm_fees  garage_places  \\\n",
      "3362                       Rua dos Timbiras        0.0              6   \n",
      "4672  Avenida Professor Mário Werneck, 2394     1180.0              3   \n",
      "3542                         Rua Maranguape      330.0              2   \n",
      "472            Rua Bernardo Guimarães, 3115        0.0              2   \n",
      "1788                     Rua Senador Amaral        0.0              5   \n",
      "...                                      ...       ...            ...   \n",
      "45        Rua Tabelião Ferreira de Carvalho      650.0              2   \n",
      "1717                           Rua Hematita      250.0              2   \n",
      "4236                          Rua São Lucas        0.0              3   \n",
      "3679                   Rua dos Agrimensores        0.0              3   \n",
      "3665                        Rua Níquel, 105        0.0              4   \n",
      "\n",
      "          price  rooms  square_foot     neighborhood             city  \\\n",
      "3362  3000000.0      5          159     Funcionários  Belo Horizonte    \n",
      "4672   630000.0      4          120          Buritis  Belo Horizonte    \n",
      "3542   479000.0      3           73            Prado  Belo Horizonte    \n",
      "472    887000.0      3           86      Barro Preto  Belo Horizonte    \n",
      "1788  1680000.0      4          500      Mangabeiras  Belo Horizonte    \n",
      "...         ...    ...          ...              ...              ...   \n",
      "45     649900.0      3           93      Cidade Nova  Belo Horizonte    \n",
      "1717   415000.0      3          110         Caiçaras  Belo Horizonte    \n",
      "4236   650000.0      3          133  Sagrada Família  Belo Horizonte    \n",
      "3679   700000.0      3          229   Alípio de Melo  Belo Horizonte    \n",
      "3665  1740000.0      4          140            Serra  Belo Horizonte    \n",
      "\n",
      "       latitude  longitude  \n",
      "3362 -19.930279 -43.925105  \n",
      "4672 -19.975825 -43.968446  \n",
      "3542 -19.927363 -43.969356  \n",
      "472  -19.927333 -43.947788  \n",
      "1788 -19.954251 -43.921965  \n",
      "...         ...        ...  \n",
      "45   -19.886940 -43.929073  \n",
      "1717 -19.909038 -43.970051  \n",
      "4236 -19.906333 -43.919262  \n",
      "3679 -19.891962 -44.001925  \n",
      "3665 -19.941089 -43.917134  \n",
      "\n",
      "[1038 rows x 10 columns]\n"
     ]
    }
   ],
   "source": [
    "# MODEL_NAME = 'belo_horizonte_price_regression'\n",
    "# champion_version = mlflow.pyfunc.load_model(f'models:/{MODEL_NAME}@champion')\n",
    "# y_pred = champion_version.predict(df_test)\n",
    "\n",
    "inputs = {\n",
    "        'adm_fees': '',\n",
    "        'neighborhood': 'Miramar',\n",
    "        'square_foot': '79',\n",
    "        'rooms': '2',\n",
    "        'garage_places': '--',\n",
    "    }\n",
    "\n",
    "# df.head()\n",
    "\n",
    "# champion_rmse = root_mean_squared_error(df_test[variables['target']], y_pred)\n",
    "# print(f'Champion\\'s rmse on test dataset: {champion_rmse}.')"
   ]
  },
  {
   "cell_type": "code",
   "execution_count": 57,
   "id": "0efe14be-996a-43ba-a58f-686e55d276af",
   "metadata": {},
   "outputs": [
    {
     "name": "stdout",
     "output_type": "stream",
     "text": [
      "  0%|                                                                                                           | 0/100 [00:00<?, ?trial/s, best loss=?]"
     ]
    },
    {
     "name": "stderr",
     "output_type": "stream",
     "text": [
      "INFO:hyperopt.tpe:build_posterior_wrapper took 0.000905 seconds\n",
      "INFO:hyperopt.tpe:TPE using 0 trials\n"
     ]
    },
    {
     "name": "stdout",
     "output_type": "stream",
     "text": [
      "  1%|▊                                                                                 | 1/100 [00:02<03:23,  2.06s/trial, best loss: 406011.1939152241]"
     ]
    },
    {
     "name": "stderr",
     "output_type": "stream",
     "text": [
      "INFO:hyperopt.tpe:build_posterior_wrapper took 0.001066 seconds\n",
      "INFO:hyperopt.tpe:TPE using 1/1 trials with best loss 406011.193915\n"
     ]
    },
    {
     "name": "stdout",
     "output_type": "stream",
     "text": [
      "  2%|█▋                                                                                 | 2/100 [00:04<03:24,  2.08s/trial, best loss: 403189.564386534]"
     ]
    },
    {
     "name": "stderr",
     "output_type": "stream",
     "text": [
      "INFO:hyperopt.tpe:build_posterior_wrapper took 0.001607 seconds\n",
      "INFO:hyperopt.tpe:TPE using 2/2 trials with best loss 403189.564387\n"
     ]
    },
    {
     "name": "stdout",
     "output_type": "stream",
     "text": [
      "  3%|██▍                                                                               | 3/100 [00:06<03:18,  2.05s/trial, best loss: 400958.0234466385]"
     ]
    },
    {
     "name": "stderr",
     "output_type": "stream",
     "text": [
      "INFO:hyperopt.tpe:build_posterior_wrapper took 0.001139 seconds\n",
      "INFO:hyperopt.tpe:TPE using 3/3 trials with best loss 400958.023447\n"
     ]
    },
    {
     "name": "stdout",
     "output_type": "stream",
     "text": [
      "  4%|███▎                                                                              | 4/100 [00:08<03:31,  2.21s/trial, best loss: 400958.0234466385]"
     ]
    },
    {
     "name": "stderr",
     "output_type": "stream",
     "text": [
      "INFO:hyperopt.tpe:build_posterior_wrapper took 0.001146 seconds\n",
      "INFO:hyperopt.tpe:TPE using 4/4 trials with best loss 400958.023447\n"
     ]
    },
    {
     "name": "stdout",
     "output_type": "stream",
     "text": [
      "  5%|████                                                                              | 5/100 [00:11<04:00,  2.53s/trial, best loss: 399973.1289880511]"
     ]
    },
    {
     "name": "stderr",
     "output_type": "stream",
     "text": [
      "INFO:hyperopt.tpe:build_posterior_wrapper took 0.001955 seconds\n",
      "INFO:hyperopt.tpe:TPE using 5/5 trials with best loss 399973.128988\n"
     ]
    },
    {
     "name": "stdout",
     "output_type": "stream",
     "text": [
      "  6%|████▉                                                                             | 6/100 [00:14<04:02,  2.58s/trial, best loss: 399973.1289880511]"
     ]
    },
    {
     "name": "stderr",
     "output_type": "stream",
     "text": [
      "INFO:hyperopt.tpe:build_posterior_wrapper took 0.001842 seconds\n",
      "INFO:hyperopt.tpe:TPE using 6/6 trials with best loss 399973.128988\n"
     ]
    },
    {
     "name": "stdout",
     "output_type": "stream",
     "text": [
      "  7%|█████▋                                                                            | 7/100 [00:16<03:53,  2.51s/trial, best loss: 399363.3170680307]"
     ]
    },
    {
     "name": "stderr",
     "output_type": "stream",
     "text": [
      "INFO:hyperopt.tpe:build_posterior_wrapper took 0.001137 seconds\n",
      "INFO:hyperopt.tpe:TPE using 7/7 trials with best loss 399363.317068\n"
     ]
    },
    {
     "name": "stdout",
     "output_type": "stream",
     "text": [
      "  8%|██████▌                                                                           | 8/100 [00:18<03:41,  2.41s/trial, best loss: 399363.3170680307]"
     ]
    },
    {
     "name": "stderr",
     "output_type": "stream",
     "text": [
      "INFO:hyperopt.tpe:build_posterior_wrapper took 0.001117 seconds\n",
      "INFO:hyperopt.tpe:TPE using 8/8 trials with best loss 399363.317068\n"
     ]
    },
    {
     "name": "stdout",
     "output_type": "stream",
     "text": [
      "  9%|███████▍                                                                          | 9/100 [00:21<03:32,  2.33s/trial, best loss: 399312.7138951396]"
     ]
    },
    {
     "name": "stderr",
     "output_type": "stream",
     "text": [
      "INFO:hyperopt.tpe:build_posterior_wrapper took 0.001095 seconds\n",
      "INFO:hyperopt.tpe:TPE using 9/9 trials with best loss 399312.713895\n"
     ]
    },
    {
     "name": "stdout",
     "output_type": "stream",
     "text": [
      " 10%|████████                                                                         | 10/100 [00:23<03:34,  2.38s/trial, best loss: 399312.7138951396]"
     ]
    },
    {
     "name": "stderr",
     "output_type": "stream",
     "text": [
      "INFO:hyperopt.tpe:build_posterior_wrapper took 0.001130 seconds\n",
      "INFO:hyperopt.tpe:TPE using 10/10 trials with best loss 399312.713895\n"
     ]
    },
    {
     "name": "stdout",
     "output_type": "stream",
     "text": [
      " 11%|████████▉                                                                        | 11/100 [00:25<03:25,  2.31s/trial, best loss: 399312.7138951396]"
     ]
    },
    {
     "name": "stderr",
     "output_type": "stream",
     "text": [
      "INFO:hyperopt.tpe:build_posterior_wrapper took 0.001038 seconds\n",
      "INFO:hyperopt.tpe:TPE using 11/11 trials with best loss 399312.713895\n"
     ]
    },
    {
     "name": "stdout",
     "output_type": "stream",
     "text": [
      " 12%|█████████▋                                                                       | 12/100 [00:27<03:17,  2.25s/trial, best loss: 399312.7138951396]"
     ]
    },
    {
     "name": "stderr",
     "output_type": "stream",
     "text": [
      "INFO:hyperopt.tpe:build_posterior_wrapper took 0.001092 seconds\n",
      "INFO:hyperopt.tpe:TPE using 12/12 trials with best loss 399312.713895\n"
     ]
    },
    {
     "name": "stdout",
     "output_type": "stream",
     "text": [
      " 13%|██████████▌                                                                      | 13/100 [00:29<03:11,  2.21s/trial, best loss: 399312.7138951396]"
     ]
    },
    {
     "name": "stderr",
     "output_type": "stream",
     "text": [
      "INFO:hyperopt.tpe:build_posterior_wrapper took 0.001029 seconds\n",
      "INFO:hyperopt.tpe:TPE using 13/13 trials with best loss 399312.713895\n"
     ]
    },
    {
     "name": "stdout",
     "output_type": "stream",
     "text": [
      " 14%|███████████▏                                                                    | 14/100 [00:32<03:10,  2.21s/trial, best loss: 399052.27082091843]"
     ]
    },
    {
     "name": "stderr",
     "output_type": "stream",
     "text": [
      "INFO:hyperopt.tpe:build_posterior_wrapper took 0.001140 seconds\n",
      "INFO:hyperopt.tpe:TPE using 14/14 trials with best loss 399052.270821\n"
     ]
    },
    {
     "name": "stdout",
     "output_type": "stream",
     "text": [
      " 15%|████████████                                                                    | 15/100 [00:34<03:09,  2.23s/trial, best loss: 399052.27082091843]"
     ]
    },
    {
     "name": "stderr",
     "output_type": "stream",
     "text": [
      "INFO:hyperopt.tpe:build_posterior_wrapper took 0.001117 seconds\n",
      "INFO:hyperopt.tpe:TPE using 15/15 trials with best loss 399052.270821\n"
     ]
    },
    {
     "name": "stdout",
     "output_type": "stream",
     "text": [
      " 16%|████████████▊                                                                   | 16/100 [00:36<03:03,  2.18s/trial, best loss: 399052.27082091843]"
     ]
    },
    {
     "name": "stderr",
     "output_type": "stream",
     "text": [
      "INFO:hyperopt.tpe:build_posterior_wrapper took 0.001036 seconds\n",
      "INFO:hyperopt.tpe:TPE using 16/16 trials with best loss 399052.270821\n"
     ]
    },
    {
     "name": "stdout",
     "output_type": "stream",
     "text": [
      " 17%|█████████████▌                                                                  | 17/100 [00:38<02:58,  2.15s/trial, best loss: 399052.27082091843]"
     ]
    },
    {
     "name": "stderr",
     "output_type": "stream",
     "text": [
      "INFO:hyperopt.tpe:build_posterior_wrapper took 0.001048 seconds\n",
      "INFO:hyperopt.tpe:TPE using 17/17 trials with best loss 399052.270821\n"
     ]
    },
    {
     "name": "stdout",
     "output_type": "stream",
     "text": [
      " 18%|██████████████▍                                                                 | 18/100 [00:40<02:59,  2.19s/trial, best loss: 399052.27082091843]"
     ]
    },
    {
     "name": "stderr",
     "output_type": "stream",
     "text": [
      "INFO:hyperopt.tpe:build_posterior_wrapper took 0.001055 seconds\n",
      "INFO:hyperopt.tpe:TPE using 18/18 trials with best loss 399052.270821\n"
     ]
    },
    {
     "name": "stdout",
     "output_type": "stream",
     "text": [
      " 19%|███████████████▏                                                                | 19/100 [00:43<03:04,  2.28s/trial, best loss: 399052.27082091843]"
     ]
    },
    {
     "name": "stderr",
     "output_type": "stream",
     "text": [
      "INFO:hyperopt.tpe:build_posterior_wrapper took 0.001717 seconds\n",
      "INFO:hyperopt.tpe:TPE using 19/19 trials with best loss 399052.270821\n"
     ]
    },
    {
     "name": "stdout",
     "output_type": "stream",
     "text": [
      " 20%|████████████████                                                                | 20/100 [00:45<03:02,  2.28s/trial, best loss: 399052.27082091843]"
     ]
    },
    {
     "name": "stderr",
     "output_type": "stream",
     "text": [
      "INFO:hyperopt.tpe:build_posterior_wrapper took 0.001093 seconds\n",
      "INFO:hyperopt.tpe:TPE using 20/20 trials with best loss 399052.270821\n"
     ]
    },
    {
     "name": "stdout",
     "output_type": "stream",
     "text": [
      " 21%|████████████████▊                                                               | 21/100 [00:48<03:01,  2.30s/trial, best loss: 399052.27082091843]"
     ]
    },
    {
     "name": "stderr",
     "output_type": "stream",
     "text": [
      "INFO:hyperopt.tpe:build_posterior_wrapper took 0.001119 seconds\n",
      "INFO:hyperopt.tpe:TPE using 21/21 trials with best loss 399052.270821\n"
     ]
    },
    {
     "name": "stdout",
     "output_type": "stream",
     "text": [
      " 22%|█████████████████▌                                                              | 22/100 [00:50<03:07,  2.41s/trial, best loss: 399052.27082091843]"
     ]
    },
    {
     "name": "stderr",
     "output_type": "stream",
     "text": [
      "INFO:hyperopt.tpe:build_posterior_wrapper took 0.001230 seconds\n",
      "INFO:hyperopt.tpe:TPE using 22/22 trials with best loss 399052.270821\n"
     ]
    },
    {
     "name": "stdout",
     "output_type": "stream",
     "text": [
      " 23%|██████████████████▍                                                             | 23/100 [00:53<03:06,  2.42s/trial, best loss: 399052.27082091843]"
     ]
    },
    {
     "name": "stderr",
     "output_type": "stream",
     "text": [
      "INFO:hyperopt.tpe:build_posterior_wrapper took 0.001100 seconds\n",
      "INFO:hyperopt.tpe:TPE using 23/23 trials with best loss 399052.270821\n"
     ]
    },
    {
     "name": "stdout",
     "output_type": "stream",
     "text": [
      " 24%|███████████████████▏                                                            | 24/100 [00:55<03:05,  2.44s/trial, best loss: 399052.27082091843]"
     ]
    },
    {
     "name": "stderr",
     "output_type": "stream",
     "text": [
      "INFO:hyperopt.tpe:build_posterior_wrapper took 0.001191 seconds\n",
      "INFO:hyperopt.tpe:TPE using 24/24 trials with best loss 399052.270821\n"
     ]
    },
    {
     "name": "stdout",
     "output_type": "stream",
     "text": [
      " 25%|████████████████████                                                            | 25/100 [00:57<03:01,  2.42s/trial, best loss: 399052.27082091843]"
     ]
    },
    {
     "name": "stderr",
     "output_type": "stream",
     "text": [
      "INFO:hyperopt.tpe:build_posterior_wrapper took 0.001427 seconds\n",
      "INFO:hyperopt.tpe:TPE using 25/25 trials with best loss 399052.270821\n"
     ]
    },
    {
     "name": "stdout",
     "output_type": "stream",
     "text": [
      " 26%|████████████████████▊                                                           | 26/100 [01:00<02:53,  2.35s/trial, best loss: 399052.27082091843]"
     ]
    },
    {
     "name": "stderr",
     "output_type": "stream",
     "text": [
      "INFO:hyperopt.tpe:build_posterior_wrapper took 0.001184 seconds\n",
      "INFO:hyperopt.tpe:TPE using 26/26 trials with best loss 399052.270821\n"
     ]
    },
    {
     "name": "stdout",
     "output_type": "stream",
     "text": [
      " 27%|█████████████████████▌                                                          | 27/100 [01:02<02:46,  2.28s/trial, best loss: 399052.27082091843]"
     ]
    },
    {
     "name": "stderr",
     "output_type": "stream",
     "text": [
      "INFO:hyperopt.tpe:build_posterior_wrapper took 0.001046 seconds\n",
      "INFO:hyperopt.tpe:TPE using 27/27 trials with best loss 399052.270821\n"
     ]
    },
    {
     "name": "stdout",
     "output_type": "stream",
     "text": [
      " 28%|██████████████████████▍                                                         | 28/100 [01:04<02:52,  2.40s/trial, best loss: 399052.27082091843]"
     ]
    },
    {
     "name": "stderr",
     "output_type": "stream",
     "text": [
      "INFO:hyperopt.tpe:build_posterior_wrapper took 0.001597 seconds\n",
      "INFO:hyperopt.tpe:TPE using 28/28 trials with best loss 399052.270821\n"
     ]
    },
    {
     "name": "stdout",
     "output_type": "stream",
     "text": [
      " 29%|███████████████████████▏                                                        | 29/100 [01:07<02:56,  2.49s/trial, best loss: 399052.27082091843]"
     ]
    },
    {
     "name": "stderr",
     "output_type": "stream",
     "text": [
      "INFO:hyperopt.tpe:build_posterior_wrapper took 0.002420 seconds\n",
      "INFO:hyperopt.tpe:TPE using 29/29 trials with best loss 399052.270821\n"
     ]
    },
    {
     "name": "stdout",
     "output_type": "stream",
     "text": [
      " 30%|████████████████████████                                                        | 30/100 [01:10<02:56,  2.52s/trial, best loss: 399052.27082091843]"
     ]
    },
    {
     "name": "stderr",
     "output_type": "stream",
     "text": [
      "INFO:hyperopt.tpe:build_posterior_wrapper took 0.001050 seconds\n",
      "INFO:hyperopt.tpe:TPE using 30/30 trials with best loss 399052.270821\n"
     ]
    },
    {
     "name": "stdout",
     "output_type": "stream",
     "text": [
      " 31%|████████████████████████▊                                                       | 31/100 [01:13<03:00,  2.61s/trial, best loss: 399052.27082091843]"
     ]
    },
    {
     "name": "stderr",
     "output_type": "stream",
     "text": [
      "INFO:hyperopt.tpe:build_posterior_wrapper took 0.001377 seconds\n",
      "INFO:hyperopt.tpe:TPE using 31/31 trials with best loss 399052.270821\n"
     ]
    },
    {
     "name": "stdout",
     "output_type": "stream",
     "text": [
      " 32%|█████████████████████████▌                                                      | 32/100 [01:15<02:46,  2.46s/trial, best loss: 399052.27082091843]"
     ]
    },
    {
     "name": "stderr",
     "output_type": "stream",
     "text": [
      "INFO:hyperopt.tpe:build_posterior_wrapper took 0.001082 seconds\n",
      "INFO:hyperopt.tpe:TPE using 32/32 trials with best loss 399052.270821\n"
     ]
    },
    {
     "name": "stdout",
     "output_type": "stream",
     "text": [
      " 33%|██████████████████████████▍                                                     | 33/100 [01:17<02:36,  2.34s/trial, best loss: 399052.27082091843]"
     ]
    },
    {
     "name": "stderr",
     "output_type": "stream",
     "text": [
      "INFO:hyperopt.tpe:build_posterior_wrapper took 0.001190 seconds\n",
      "INFO:hyperopt.tpe:TPE using 33/33 trials with best loss 399052.270821\n"
     ]
    },
    {
     "name": "stdout",
     "output_type": "stream",
     "text": [
      " 34%|███████████████████████████▏                                                    | 34/100 [01:19<02:30,  2.28s/trial, best loss: 399052.27082091843]"
     ]
    },
    {
     "name": "stderr",
     "output_type": "stream",
     "text": [
      "INFO:hyperopt.tpe:build_posterior_wrapper took 0.001220 seconds\n",
      "INFO:hyperopt.tpe:TPE using 34/34 trials with best loss 399052.270821\n"
     ]
    },
    {
     "name": "stdout",
     "output_type": "stream",
     "text": [
      " 35%|████████████████████████████                                                    | 35/100 [01:21<02:33,  2.36s/trial, best loss: 399052.27082091843]"
     ]
    },
    {
     "name": "stderr",
     "output_type": "stream",
     "text": [
      "INFO:hyperopt.tpe:build_posterior_wrapper took 0.005242 seconds\n",
      "INFO:hyperopt.tpe:TPE using 35/35 trials with best loss 399052.270821\n"
     ]
    },
    {
     "name": "stdout",
     "output_type": "stream",
     "text": [
      " 36%|████████████████████████████▊                                                   | 36/100 [01:24<02:39,  2.48s/trial, best loss: 399052.27082091843]"
     ]
    },
    {
     "name": "stderr",
     "output_type": "stream",
     "text": [
      "INFO:hyperopt.tpe:build_posterior_wrapper took 0.001092 seconds\n",
      "INFO:hyperopt.tpe:TPE using 36/36 trials with best loss 399052.270821\n"
     ]
    },
    {
     "name": "stdout",
     "output_type": "stream",
     "text": [
      " 37%|█████████████████████████████▌                                                  | 37/100 [01:27<02:33,  2.43s/trial, best loss: 399052.27082091843]"
     ]
    },
    {
     "name": "stderr",
     "output_type": "stream",
     "text": [
      "INFO:hyperopt.tpe:build_posterior_wrapper took 0.001112 seconds\n",
      "INFO:hyperopt.tpe:TPE using 37/37 trials with best loss 399052.270821\n"
     ]
    },
    {
     "name": "stdout",
     "output_type": "stream",
     "text": [
      " 38%|██████████████████████████████▍                                                 | 38/100 [01:29<02:23,  2.32s/trial, best loss: 399052.27082091843]"
     ]
    },
    {
     "name": "stderr",
     "output_type": "stream",
     "text": [
      "INFO:hyperopt.tpe:build_posterior_wrapper took 0.001100 seconds\n",
      "INFO:hyperopt.tpe:TPE using 38/38 trials with best loss 399052.270821\n"
     ]
    },
    {
     "name": "stdout",
     "output_type": "stream",
     "text": [
      " 39%|███████████████████████████████▏                                                | 39/100 [01:31<02:18,  2.27s/trial, best loss: 399052.27082091843]"
     ]
    },
    {
     "name": "stderr",
     "output_type": "stream",
     "text": [
      "INFO:hyperopt.tpe:build_posterior_wrapper took 0.001580 seconds\n",
      "INFO:hyperopt.tpe:TPE using 39/39 trials with best loss 399052.270821\n"
     ]
    },
    {
     "name": "stdout",
     "output_type": "stream",
     "text": [
      " 40%|████████████████████████████████                                                | 40/100 [01:33<02:15,  2.26s/trial, best loss: 399052.27082091843]"
     ]
    },
    {
     "name": "stderr",
     "output_type": "stream",
     "text": [
      "INFO:hyperopt.tpe:build_posterior_wrapper took 0.001106 seconds\n",
      "INFO:hyperopt.tpe:TPE using 40/40 trials with best loss 399052.270821\n"
     ]
    },
    {
     "name": "stdout",
     "output_type": "stream",
     "text": [
      " 41%|████████████████████████████████▊                                               | 41/100 [01:35<02:12,  2.25s/trial, best loss: 399052.27082091843]"
     ]
    },
    {
     "name": "stderr",
     "output_type": "stream",
     "text": [
      "INFO:hyperopt.tpe:build_posterior_wrapper took 0.001089 seconds\n",
      "INFO:hyperopt.tpe:TPE using 41/41 trials with best loss 399052.270821\n"
     ]
    },
    {
     "name": "stdout",
     "output_type": "stream",
     "text": [
      " 42%|█████████████████████████████████▌                                              | 42/100 [01:37<02:07,  2.20s/trial, best loss: 399052.27082091843]"
     ]
    },
    {
     "name": "stderr",
     "output_type": "stream",
     "text": [
      "INFO:hyperopt.tpe:build_posterior_wrapper took 0.001466 seconds\n",
      "INFO:hyperopt.tpe:TPE using 42/42 trials with best loss 399052.270821\n"
     ]
    },
    {
     "name": "stdout",
     "output_type": "stream",
     "text": [
      " 43%|██████████████████████████████████▍                                             | 43/100 [01:40<02:08,  2.26s/trial, best loss: 399052.27082091843]"
     ]
    },
    {
     "name": "stderr",
     "output_type": "stream",
     "text": [
      "INFO:hyperopt.tpe:build_posterior_wrapper took 0.001247 seconds\n",
      "INFO:hyperopt.tpe:TPE using 43/43 trials with best loss 399052.270821\n"
     ]
    },
    {
     "name": "stdout",
     "output_type": "stream",
     "text": [
      " 44%|███████████████████████████████████▏                                            | 44/100 [01:42<02:04,  2.23s/trial, best loss: 399052.27082091843]"
     ]
    },
    {
     "name": "stderr",
     "output_type": "stream",
     "text": [
      "INFO:hyperopt.tpe:build_posterior_wrapper took 0.001050 seconds\n",
      "INFO:hyperopt.tpe:TPE using 44/44 trials with best loss 399052.270821\n"
     ]
    },
    {
     "name": "stdout",
     "output_type": "stream",
     "text": [
      " 45%|████████████████████████████████████                                            | 45/100 [01:44<02:00,  2.19s/trial, best loss: 399052.27082091843]"
     ]
    },
    {
     "name": "stderr",
     "output_type": "stream",
     "text": [
      "INFO:hyperopt.tpe:build_posterior_wrapper took 0.002038 seconds\n",
      "INFO:hyperopt.tpe:TPE using 45/45 trials with best loss 399052.270821\n"
     ]
    },
    {
     "name": "stdout",
     "output_type": "stream",
     "text": [
      " 46%|████████████████████████████████████▊                                           | 46/100 [01:46<01:57,  2.17s/trial, best loss: 399052.27082091843]"
     ]
    },
    {
     "name": "stderr",
     "output_type": "stream",
     "text": [
      "INFO:hyperopt.tpe:build_posterior_wrapper took 0.001334 seconds\n",
      "INFO:hyperopt.tpe:TPE using 46/46 trials with best loss 399052.270821\n"
     ]
    },
    {
     "name": "stdout",
     "output_type": "stream",
     "text": [
      " 47%|█████████████████████████████████████▌                                          | 47/100 [01:48<01:54,  2.16s/trial, best loss: 399052.27082091843]"
     ]
    },
    {
     "name": "stderr",
     "output_type": "stream",
     "text": [
      "INFO:hyperopt.tpe:build_posterior_wrapper took 0.001100 seconds\n",
      "INFO:hyperopt.tpe:TPE using 47/47 trials with best loss 399052.270821\n"
     ]
    },
    {
     "name": "stdout",
     "output_type": "stream",
     "text": [
      " 48%|██████████████████████████████████████▍                                         | 48/100 [01:50<01:51,  2.15s/trial, best loss: 399052.27082091843]"
     ]
    },
    {
     "name": "stderr",
     "output_type": "stream",
     "text": [
      "INFO:hyperopt.tpe:build_posterior_wrapper took 0.001522 seconds\n",
      "INFO:hyperopt.tpe:TPE using 48/48 trials with best loss 399052.270821\n"
     ]
    },
    {
     "name": "stdout",
     "output_type": "stream",
     "text": [
      " 49%|███████████████████████████████████████▋                                         | 49/100 [01:53<01:51,  2.19s/trial, best loss: 399014.4720536462]"
     ]
    },
    {
     "name": "stderr",
     "output_type": "stream",
     "text": [
      "INFO:hyperopt.tpe:build_posterior_wrapper took 0.001098 seconds\n",
      "INFO:hyperopt.tpe:TPE using 49/49 trials with best loss 399014.472054\n"
     ]
    },
    {
     "name": "stdout",
     "output_type": "stream",
     "text": [
      " 50%|████████████████████████████████████████▌                                        | 50/100 [01:55<01:48,  2.16s/trial, best loss: 399014.4720536462]"
     ]
    },
    {
     "name": "stderr",
     "output_type": "stream",
     "text": [
      "INFO:hyperopt.tpe:build_posterior_wrapper took 0.001091 seconds\n",
      "INFO:hyperopt.tpe:TPE using 50/50 trials with best loss 399014.472054\n"
     ]
    },
    {
     "name": "stdout",
     "output_type": "stream",
     "text": [
      " 51%|█████████████████████████████████████████▎                                       | 51/100 [01:57<01:45,  2.16s/trial, best loss: 399014.4720536462]"
     ]
    },
    {
     "name": "stderr",
     "output_type": "stream",
     "text": [
      "INFO:hyperopt.tpe:build_posterior_wrapper took 0.001163 seconds\n",
      "INFO:hyperopt.tpe:TPE using 51/51 trials with best loss 399014.472054\n"
     ]
    },
    {
     "name": "stdout",
     "output_type": "stream",
     "text": [
      " 52%|██████████████████████████████████████████                                       | 52/100 [01:59<01:44,  2.17s/trial, best loss: 399014.4720536462]"
     ]
    },
    {
     "name": "stderr",
     "output_type": "stream",
     "text": [
      "INFO:hyperopt.tpe:build_posterior_wrapper took 0.001095 seconds\n",
      "INFO:hyperopt.tpe:TPE using 52/52 trials with best loss 399014.472054\n"
     ]
    },
    {
     "name": "stdout",
     "output_type": "stream",
     "text": [
      " 53%|██████████████████████████████████████████▉                                      | 53/100 [02:01<01:40,  2.14s/trial, best loss: 399014.4720536462]"
     ]
    },
    {
     "name": "stderr",
     "output_type": "stream",
     "text": [
      "INFO:hyperopt.tpe:build_posterior_wrapper took 0.001086 seconds\n",
      "INFO:hyperopt.tpe:TPE using 53/53 trials with best loss 399014.472054\n"
     ]
    },
    {
     "name": "stdout",
     "output_type": "stream",
     "text": [
      " 54%|███████████████████████████████████████████▋                                     | 54/100 [02:03<01:37,  2.13s/trial, best loss: 399014.4720536462]"
     ]
    },
    {
     "name": "stderr",
     "output_type": "stream",
     "text": [
      "INFO:hyperopt.tpe:build_posterior_wrapper took 0.001122 seconds\n",
      "INFO:hyperopt.tpe:TPE using 54/54 trials with best loss 399014.472054\n"
     ]
    },
    {
     "name": "stdout",
     "output_type": "stream",
     "text": [
      " 55%|████████████████████████████████████████████▌                                    | 55/100 [02:06<01:38,  2.20s/trial, best loss: 399014.4720536462]"
     ]
    },
    {
     "name": "stderr",
     "output_type": "stream",
     "text": [
      "INFO:hyperopt.tpe:build_posterior_wrapper took 0.001031 seconds\n",
      "INFO:hyperopt.tpe:TPE using 55/55 trials with best loss 399014.472054\n"
     ]
    },
    {
     "name": "stdout",
     "output_type": "stream",
     "text": [
      " 56%|█████████████████████████████████████████████▎                                   | 56/100 [02:08<01:37,  2.22s/trial, best loss: 399014.4720536462]"
     ]
    },
    {
     "name": "stderr",
     "output_type": "stream",
     "text": [
      "INFO:hyperopt.tpe:build_posterior_wrapper took 0.001077 seconds\n",
      "INFO:hyperopt.tpe:TPE using 56/56 trials with best loss 399014.472054\n"
     ]
    },
    {
     "name": "stdout",
     "output_type": "stream",
     "text": [
      " 57%|██████████████████████████████████████████████▏                                  | 57/100 [02:10<01:33,  2.18s/trial, best loss: 399014.4720536462]"
     ]
    },
    {
     "name": "stderr",
     "output_type": "stream",
     "text": [
      "INFO:hyperopt.tpe:build_posterior_wrapper took 0.001126 seconds\n",
      "INFO:hyperopt.tpe:TPE using 57/57 trials with best loss 399014.472054\n"
     ]
    },
    {
     "name": "stdout",
     "output_type": "stream",
     "text": [
      " 58%|██████████████████████████████████████████████▉                                  | 58/100 [02:12<01:30,  2.16s/trial, best loss: 399014.4720536462]"
     ]
    },
    {
     "name": "stderr",
     "output_type": "stream",
     "text": [
      "INFO:hyperopt.tpe:build_posterior_wrapper took 0.001104 seconds\n",
      "INFO:hyperopt.tpe:TPE using 58/58 trials with best loss 399014.472054\n"
     ]
    },
    {
     "name": "stdout",
     "output_type": "stream",
     "text": [
      " 59%|███████████████████████████████████████████████▊                                 | 59/100 [02:14<01:26,  2.12s/trial, best loss: 399014.4720536462]"
     ]
    },
    {
     "name": "stderr",
     "output_type": "stream",
     "text": [
      "INFO:hyperopt.tpe:build_posterior_wrapper took 0.001048 seconds\n",
      "INFO:hyperopt.tpe:TPE using 59/59 trials with best loss 399014.472054\n"
     ]
    },
    {
     "name": "stdout",
     "output_type": "stream",
     "text": [
      " 60%|████████████████████████████████████████████████▌                                | 60/100 [02:16<01:24,  2.12s/trial, best loss: 399014.4720536462]"
     ]
    },
    {
     "name": "stderr",
     "output_type": "stream",
     "text": [
      "INFO:hyperopt.tpe:build_posterior_wrapper took 0.001095 seconds\n",
      "INFO:hyperopt.tpe:TPE using 60/60 trials with best loss 399014.472054\n"
     ]
    },
    {
     "name": "stdout",
     "output_type": "stream",
     "text": [
      " 61%|█████████████████████████████████████████████████▍                               | 61/100 [02:18<01:22,  2.11s/trial, best loss: 399014.4720536462]"
     ]
    },
    {
     "name": "stderr",
     "output_type": "stream",
     "text": [
      "INFO:hyperopt.tpe:build_posterior_wrapper took 0.001978 seconds\n",
      "INFO:hyperopt.tpe:TPE using 61/61 trials with best loss 399014.472054\n"
     ]
    },
    {
     "name": "stdout",
     "output_type": "stream",
     "text": [
      " 62%|██████████████████████████████████████████████████▏                              | 62/100 [02:20<01:19,  2.10s/trial, best loss: 399014.4720536462]"
     ]
    },
    {
     "name": "stderr",
     "output_type": "stream",
     "text": [
      "INFO:hyperopt.tpe:build_posterior_wrapper took 0.001062 seconds\n",
      "INFO:hyperopt.tpe:TPE using 62/62 trials with best loss 399014.472054\n"
     ]
    },
    {
     "name": "stdout",
     "output_type": "stream",
     "text": [
      " 63%|███████████████████████████████████████████████████                              | 63/100 [02:23<01:20,  2.18s/trial, best loss: 399014.4720536462]"
     ]
    },
    {
     "name": "stderr",
     "output_type": "stream",
     "text": [
      "INFO:hyperopt.tpe:build_posterior_wrapper took 0.001255 seconds\n",
      "INFO:hyperopt.tpe:TPE using 63/63 trials with best loss 399014.472054\n"
     ]
    },
    {
     "name": "stdout",
     "output_type": "stream",
     "text": [
      " 64%|███████████████████████████████████████████████████▊                             | 64/100 [02:25<01:17,  2.15s/trial, best loss: 399014.4720536462]"
     ]
    },
    {
     "name": "stderr",
     "output_type": "stream",
     "text": [
      "INFO:hyperopt.tpe:build_posterior_wrapper took 0.001061 seconds\n",
      "INFO:hyperopt.tpe:TPE using 64/64 trials with best loss 399014.472054\n"
     ]
    },
    {
     "name": "stdout",
     "output_type": "stream",
     "text": [
      " 65%|████████████████████████████████████████████████████▋                            | 65/100 [02:28<01:24,  2.42s/trial, best loss: 399014.4720536462]"
     ]
    },
    {
     "name": "stderr",
     "output_type": "stream",
     "text": [
      "INFO:hyperopt.tpe:build_posterior_wrapper took 0.002724 seconds\n",
      "INFO:hyperopt.tpe:TPE using 65/65 trials with best loss 399014.472054\n"
     ]
    },
    {
     "name": "stdout",
     "output_type": "stream",
     "text": [
      " 66%|█████████████████████████████████████████████████████▍                           | 66/100 [02:31<01:27,  2.58s/trial, best loss: 399014.4720536462]"
     ]
    },
    {
     "name": "stderr",
     "output_type": "stream",
     "text": [
      "INFO:hyperopt.tpe:build_posterior_wrapper took 0.001061 seconds\n",
      "INFO:hyperopt.tpe:TPE using 66/66 trials with best loss 399014.472054\n"
     ]
    },
    {
     "name": "stdout",
     "output_type": "stream",
     "text": [
      " 67%|██████████████████████████████████████████████████████▎                          | 67/100 [02:34<01:28,  2.69s/trial, best loss: 399014.4720536462]"
     ]
    },
    {
     "name": "stderr",
     "output_type": "stream",
     "text": [
      "INFO:hyperopt.tpe:build_posterior_wrapper took 0.001064 seconds\n",
      "INFO:hyperopt.tpe:TPE using 67/67 trials with best loss 399014.472054\n"
     ]
    },
    {
     "name": "stdout",
     "output_type": "stream",
     "text": [
      " 68%|███████████████████████████████████████████████████████                          | 68/100 [02:36<01:21,  2.55s/trial, best loss: 399014.4720536462]"
     ]
    },
    {
     "name": "stderr",
     "output_type": "stream",
     "text": [
      "INFO:hyperopt.tpe:build_posterior_wrapper took 0.001082 seconds\n",
      "INFO:hyperopt.tpe:TPE using 68/68 trials with best loss 399014.472054\n"
     ]
    },
    {
     "name": "stdout",
     "output_type": "stream",
     "text": [
      " 69%|███████████████████████████████████████████████████████▉                         | 69/100 [02:38<01:15,  2.42s/trial, best loss: 399014.4720536462]"
     ]
    },
    {
     "name": "stderr",
     "output_type": "stream",
     "text": [
      "INFO:hyperopt.tpe:build_posterior_wrapper took 0.001097 seconds\n",
      "INFO:hyperopt.tpe:TPE using 69/69 trials with best loss 399014.472054\n"
     ]
    },
    {
     "name": "stdout",
     "output_type": "stream",
     "text": [
      " 70%|████████████████████████████████████████████████████████▋                        | 70/100 [02:41<01:14,  2.48s/trial, best loss: 399014.4720536462]"
     ]
    },
    {
     "name": "stderr",
     "output_type": "stream",
     "text": [
      "INFO:hyperopt.tpe:build_posterior_wrapper took 0.001444 seconds\n",
      "INFO:hyperopt.tpe:TPE using 70/70 trials with best loss 399014.472054\n"
     ]
    },
    {
     "name": "stdout",
     "output_type": "stream",
     "text": [
      " 71%|█████████████████████████████████████████████████████████▌                       | 71/100 [02:43<01:12,  2.49s/trial, best loss: 399014.4720536462]"
     ]
    },
    {
     "name": "stderr",
     "output_type": "stream",
     "text": [
      "INFO:hyperopt.tpe:build_posterior_wrapper took 0.001794 seconds\n",
      "INFO:hyperopt.tpe:TPE using 71/71 trials with best loss 399014.472054\n"
     ]
    },
    {
     "name": "stdout",
     "output_type": "stream",
     "text": [
      " 72%|██████████████████████████████████████████████████████████▎                      | 72/100 [02:46<01:08,  2.44s/trial, best loss: 399014.4720536462]"
     ]
    },
    {
     "name": "stderr",
     "output_type": "stream",
     "text": [
      "INFO:hyperopt.tpe:build_posterior_wrapper took 0.001090 seconds\n",
      "INFO:hyperopt.tpe:TPE using 72/72 trials with best loss 399014.472054\n"
     ]
    },
    {
     "name": "stdout",
     "output_type": "stream",
     "text": [
      " 73%|███████████████████████████████████████████████████████████▏                     | 73/100 [02:48<01:03,  2.35s/trial, best loss: 399014.4720536462]"
     ]
    },
    {
     "name": "stderr",
     "output_type": "stream",
     "text": [
      "INFO:hyperopt.tpe:build_posterior_wrapper took 0.001054 seconds\n",
      "INFO:hyperopt.tpe:TPE using 73/73 trials with best loss 399014.472054\n"
     ]
    },
    {
     "name": "stdout",
     "output_type": "stream",
     "text": [
      " 74%|███████████████████████████████████████████████████████████▉                     | 74/100 [02:50<00:59,  2.29s/trial, best loss: 399014.4720536462]"
     ]
    },
    {
     "name": "stderr",
     "output_type": "stream",
     "text": [
      "INFO:hyperopt.tpe:build_posterior_wrapper took 0.001066 seconds\n",
      "INFO:hyperopt.tpe:TPE using 74/74 trials with best loss 399014.472054\n"
     ]
    },
    {
     "name": "stdout",
     "output_type": "stream",
     "text": [
      " 75%|████████████████████████████████████████████████████████████▊                    | 75/100 [02:52<00:57,  2.30s/trial, best loss: 399014.4720536462]"
     ]
    },
    {
     "name": "stderr",
     "output_type": "stream",
     "text": [
      "INFO:hyperopt.tpe:build_posterior_wrapper took 0.001141 seconds\n",
      "INFO:hyperopt.tpe:TPE using 75/75 trials with best loss 399014.472054\n"
     ]
    },
    {
     "name": "stdout",
     "output_type": "stream",
     "text": [
      " 76%|█████████████████████████████████████████████████████████████▌                   | 76/100 [02:55<00:55,  2.32s/trial, best loss: 399014.4720536462]"
     ]
    },
    {
     "name": "stderr",
     "output_type": "stream",
     "text": [
      "INFO:hyperopt.tpe:build_posterior_wrapper took 0.001290 seconds\n",
      "INFO:hyperopt.tpe:TPE using 76/76 trials with best loss 399014.472054\n"
     ]
    },
    {
     "name": "stdout",
     "output_type": "stream",
     "text": [
      " 77%|██████████████████████████████████████████████████████████████▎                  | 77/100 [02:57<00:53,  2.32s/trial, best loss: 399014.4720536462]"
     ]
    },
    {
     "name": "stderr",
     "output_type": "stream",
     "text": [
      "INFO:hyperopt.tpe:build_posterior_wrapper took 0.001085 seconds\n",
      "INFO:hyperopt.tpe:TPE using 77/77 trials with best loss 399014.472054\n"
     ]
    },
    {
     "name": "stdout",
     "output_type": "stream",
     "text": [
      " 78%|███████████████████████████████████████████████████████████████▏                 | 78/100 [02:59<00:49,  2.26s/trial, best loss: 399014.4720536462]"
     ]
    },
    {
     "name": "stderr",
     "output_type": "stream",
     "text": [
      "INFO:hyperopt.tpe:build_posterior_wrapper took 0.001186 seconds\n",
      "INFO:hyperopt.tpe:TPE using 78/78 trials with best loss 399014.472054\n"
     ]
    },
    {
     "name": "stdout",
     "output_type": "stream",
     "text": [
      " 79%|███████████████████████████████████████████████████████████████▉                 | 79/100 [03:02<00:53,  2.55s/trial, best loss: 399014.4720536462]"
     ]
    },
    {
     "name": "stderr",
     "output_type": "stream",
     "text": [
      "INFO:hyperopt.tpe:build_posterior_wrapper took 0.001937 seconds\n",
      "INFO:hyperopt.tpe:TPE using 79/79 trials with best loss 399014.472054\n"
     ]
    },
    {
     "name": "stdout",
     "output_type": "stream",
     "text": [
      " 80%|████████████████████████████████████████████████████████████████▊                | 80/100 [03:05<00:50,  2.51s/trial, best loss: 399014.4720536462]"
     ]
    },
    {
     "name": "stderr",
     "output_type": "stream",
     "text": [
      "INFO:hyperopt.tpe:build_posterior_wrapper took 0.001094 seconds\n",
      "INFO:hyperopt.tpe:TPE using 80/80 trials with best loss 399014.472054\n"
     ]
    },
    {
     "name": "stdout",
     "output_type": "stream",
     "text": [
      " 81%|█████████████████████████████████████████████████████████████████▌               | 81/100 [03:07<00:47,  2.49s/trial, best loss: 399014.4720536462]"
     ]
    },
    {
     "name": "stderr",
     "output_type": "stream",
     "text": [
      "INFO:hyperopt.tpe:build_posterior_wrapper took 0.001201 seconds\n",
      "INFO:hyperopt.tpe:TPE using 81/81 trials with best loss 399014.472054\n"
     ]
    },
    {
     "name": "stdout",
     "output_type": "stream",
     "text": [
      " 82%|██████████████████████████████████████████████████████████████████▍              | 82/100 [03:09<00:43,  2.41s/trial, best loss: 399014.4720536462]"
     ]
    },
    {
     "name": "stderr",
     "output_type": "stream",
     "text": [
      "INFO:hyperopt.tpe:build_posterior_wrapper took 0.001125 seconds\n",
      "INFO:hyperopt.tpe:TPE using 82/82 trials with best loss 399014.472054\n"
     ]
    },
    {
     "name": "stdout",
     "output_type": "stream",
     "text": [
      " 83%|███████████████████████████████████████████████████████████████████▏             | 83/100 [03:12<00:42,  2.48s/trial, best loss: 399014.4720536462]"
     ]
    },
    {
     "name": "stderr",
     "output_type": "stream",
     "text": [
      "INFO:hyperopt.tpe:build_posterior_wrapper took 0.001098 seconds\n",
      "INFO:hyperopt.tpe:TPE using 83/83 trials with best loss 399014.472054\n"
     ]
    },
    {
     "name": "stdout",
     "output_type": "stream",
     "text": [
      " 84%|████████████████████████████████████████████████████████████████████             | 84/100 [03:14<00:38,  2.42s/trial, best loss: 399014.4720536462]"
     ]
    },
    {
     "name": "stderr",
     "output_type": "stream",
     "text": [
      "INFO:hyperopt.tpe:build_posterior_wrapper took 0.001082 seconds\n",
      "INFO:hyperopt.tpe:TPE using 84/84 trials with best loss 399014.472054\n"
     ]
    },
    {
     "name": "stdout",
     "output_type": "stream",
     "text": [
      " 85%|████████████████████████████████████████████████████████████████████▊            | 85/100 [03:17<00:36,  2.41s/trial, best loss: 399014.4720536462]"
     ]
    },
    {
     "name": "stderr",
     "output_type": "stream",
     "text": [
      "INFO:hyperopt.tpe:build_posterior_wrapper took 0.001060 seconds\n",
      "INFO:hyperopt.tpe:TPE using 85/85 trials with best loss 399014.472054\n"
     ]
    },
    {
     "name": "stdout",
     "output_type": "stream",
     "text": [
      " 86%|█████████████████████████████████████████████████████████████████████▋           | 86/100 [03:19<00:33,  2.43s/trial, best loss: 399014.4720536462]"
     ]
    },
    {
     "name": "stderr",
     "output_type": "stream",
     "text": [
      "INFO:hyperopt.tpe:build_posterior_wrapper took 0.001233 seconds\n",
      "INFO:hyperopt.tpe:TPE using 86/86 trials with best loss 399014.472054\n"
     ]
    },
    {
     "name": "stdout",
     "output_type": "stream",
     "text": [
      " 87%|██████████████████████████████████████████████████████████████████████▍          | 87/100 [03:21<00:30,  2.37s/trial, best loss: 399014.4720536462]"
     ]
    },
    {
     "name": "stderr",
     "output_type": "stream",
     "text": [
      "INFO:hyperopt.tpe:build_posterior_wrapper took 0.001206 seconds\n",
      "INFO:hyperopt.tpe:TPE using 87/87 trials with best loss 399014.472054\n"
     ]
    },
    {
     "name": "stdout",
     "output_type": "stream",
     "text": [
      " 88%|███████████████████████████████████████████████████████████████████████▎         | 88/100 [03:23<00:27,  2.31s/trial, best loss: 399014.4720536462]"
     ]
    },
    {
     "name": "stderr",
     "output_type": "stream",
     "text": [
      "INFO:hyperopt.tpe:build_posterior_wrapper took 0.001042 seconds\n",
      "INFO:hyperopt.tpe:TPE using 88/88 trials with best loss 399014.472054\n"
     ]
    },
    {
     "name": "stdout",
     "output_type": "stream",
     "text": [
      " 89%|████████████████████████████████████████████████████████████████████████         | 89/100 [03:26<00:24,  2.26s/trial, best loss: 399014.4720536462]"
     ]
    },
    {
     "name": "stderr",
     "output_type": "stream",
     "text": [
      "INFO:hyperopt.tpe:build_posterior_wrapper took 0.001214 seconds\n",
      "INFO:hyperopt.tpe:TPE using 89/89 trials with best loss 399014.472054\n"
     ]
    },
    {
     "name": "stdout",
     "output_type": "stream",
     "text": [
      " 90%|████████████████████████████████████████████████████████████████████████▉        | 90/100 [03:28<00:22,  2.23s/trial, best loss: 399014.4720536462]"
     ]
    },
    {
     "name": "stderr",
     "output_type": "stream",
     "text": [
      "INFO:hyperopt.tpe:build_posterior_wrapper took 0.001152 seconds\n",
      "INFO:hyperopt.tpe:TPE using 90/90 trials with best loss 399014.472054\n"
     ]
    },
    {
     "name": "stdout",
     "output_type": "stream",
     "text": [
      " 91%|█████████████████████████████████████████████████████████████████████████▋       | 91/100 [03:30<00:19,  2.20s/trial, best loss: 399014.4720536462]"
     ]
    },
    {
     "name": "stderr",
     "output_type": "stream",
     "text": [
      "INFO:hyperopt.tpe:build_posterior_wrapper took 0.001100 seconds\n",
      "INFO:hyperopt.tpe:TPE using 91/91 trials with best loss 399014.472054\n"
     ]
    },
    {
     "name": "stdout",
     "output_type": "stream",
     "text": [
      " 92%|██████████████████████████████████████████████████████████████████████████▌      | 92/100 [03:32<00:18,  2.26s/trial, best loss: 399014.4720536462]"
     ]
    },
    {
     "name": "stderr",
     "output_type": "stream",
     "text": [
      "INFO:hyperopt.tpe:build_posterior_wrapper took 0.001157 seconds\n",
      "INFO:hyperopt.tpe:TPE using 92/92 trials with best loss 399014.472054\n"
     ]
    },
    {
     "name": "stdout",
     "output_type": "stream",
     "text": [
      " 93%|███████████████████████████████████████████████████████████████████████████▎     | 93/100 [03:35<00:15,  2.27s/trial, best loss: 399014.4720536462]"
     ]
    },
    {
     "name": "stderr",
     "output_type": "stream",
     "text": [
      "INFO:hyperopt.tpe:build_posterior_wrapper took 0.001060 seconds\n",
      "INFO:hyperopt.tpe:TPE using 93/93 trials with best loss 399014.472054\n"
     ]
    },
    {
     "name": "stdout",
     "output_type": "stream",
     "text": [
      " 94%|████████████████████████████████████████████████████████████████████████████▏    | 94/100 [03:37<00:13,  2.26s/trial, best loss: 399014.4720536462]"
     ]
    },
    {
     "name": "stderr",
     "output_type": "stream",
     "text": [
      "INFO:hyperopt.tpe:build_posterior_wrapper took 0.001137 seconds\n",
      "INFO:hyperopt.tpe:TPE using 94/94 trials with best loss 399014.472054\n"
     ]
    },
    {
     "name": "stdout",
     "output_type": "stream",
     "text": [
      " 95%|████████████████████████████████████████████████████████████████████████████▉    | 95/100 [03:39<00:11,  2.22s/trial, best loss: 399014.4720536462]"
     ]
    },
    {
     "name": "stderr",
     "output_type": "stream",
     "text": [
      "INFO:hyperopt.tpe:build_posterior_wrapper took 0.001037 seconds\n",
      "INFO:hyperopt.tpe:TPE using 95/95 trials with best loss 399014.472054\n"
     ]
    },
    {
     "name": "stdout",
     "output_type": "stream",
     "text": [
      " 96%|█████████████████████████████████████████████████████████████████████████████▊   | 96/100 [03:41<00:08,  2.25s/trial, best loss: 399014.4720536462]"
     ]
    },
    {
     "name": "stderr",
     "output_type": "stream",
     "text": [
      "INFO:hyperopt.tpe:build_posterior_wrapper took 0.001173 seconds\n",
      "INFO:hyperopt.tpe:TPE using 96/96 trials with best loss 399014.472054\n"
     ]
    },
    {
     "name": "stdout",
     "output_type": "stream",
     "text": [
      " 97%|██████████████████████████████████████████████████████████████████████████████▌  | 97/100 [03:43<00:06,  2.22s/trial, best loss: 399014.4720536462]"
     ]
    },
    {
     "name": "stderr",
     "output_type": "stream",
     "text": [
      "INFO:hyperopt.tpe:build_posterior_wrapper took 0.001076 seconds\n",
      "INFO:hyperopt.tpe:TPE using 97/97 trials with best loss 399014.472054\n"
     ]
    },
    {
     "name": "stdout",
     "output_type": "stream",
     "text": [
      " 98%|███████████████████████████████████████████████████████████████████████████████▍ | 98/100 [03:46<00:04,  2.23s/trial, best loss: 399014.4720536462]"
     ]
    },
    {
     "name": "stderr",
     "output_type": "stream",
     "text": [
      "INFO:hyperopt.tpe:build_posterior_wrapper took 0.001323 seconds\n",
      "INFO:hyperopt.tpe:TPE using 98/98 trials with best loss 399014.472054\n",
      "/home/quentin/.cache/pypoetry/virtualenvs/belo-horizonte-estate-pricing-JU3YA-Le-py3.12/lib/python3.12/site-packages/sklearn/linear_model/_coordinate_descent.py:658: ConvergenceWarning: Objective did not converge. You might want to increase the number of iterations. Duality gap: 0.23123027800960472, tolerance: 0.17493331201151205\n",
      "  model = cd_fast.sparse_enet_coordinate_descent(\n",
      "\n"
     ]
    },
    {
     "name": "stdout",
     "output_type": "stream",
     "text": [
      " 99%|████████████████████████████████████████████████████████████████████████████████▏| 99/100 [03:48<00:02,  2.23s/trial, best loss: 399014.4720536462]"
     ]
    },
    {
     "name": "stderr",
     "output_type": "stream",
     "text": [
      "INFO:hyperopt.tpe:build_posterior_wrapper took 0.001045 seconds\n",
      "INFO:hyperopt.tpe:TPE using 99/99 trials with best loss 399014.472054\n"
     ]
    },
    {
     "name": "stdout",
     "output_type": "stream",
     "text": [
      "100%|████████████████████████████████████████████████████████████████████████████████| 100/100 [03:50<00:00,  2.31s/trial, best loss: 399014.4720536462]\n"
     ]
    }
   ],
   "source": [
    "categorical_features = variables['categorical']\n",
    "numerical_features = variables['numerical']\n",
    "target = variables['target']\n",
    "\n",
    "X_train, X_val, y_train, y_val = train_test_split(\n",
    "    df_train[categorical_features + numerical_features],\n",
    "    df_train[target],\n",
    "    test_size=0.2,\n",
    "    random_state=42\n",
    ")\n",
    "\n",
    "\n",
    "def dataframe_to_dict(df:pd.DataFrame):\n",
    "    return df.to_dict('records')\n",
    "\n",
    "def objective(params):\n",
    "    \n",
    "    preprocessor = ColumnTransformer(\n",
    "        transformers=[\n",
    "            ('num', Pipeline(steps=[('scaler', StandardScaler())]), numerical_features),\n",
    "            (\n",
    "                'cat',\n",
    "                Pipeline(\n",
    "                    steps=[\n",
    "                        ('to_dict', FunctionTransformer(dataframe_to_dict)),  # returns a list of dicts\n",
    "                        ('vectorizer', DictVectorizer()),  # list of dicts -> feature matrix\n",
    "                    ]\n",
    "                ), categorical_features\n",
    "            )\n",
    "        ]\n",
    "    )\n",
    "\n",
    "    pipeline = make_pipeline(\n",
    "        preprocessor,\n",
    "        TransformedTargetRegressor(\n",
    "            regressor=ElasticNet(**params), func=np.log1p, inverse_func=np.expm1\n",
    "        ),\n",
    "    )\n",
    "    \n",
    "    with mlflow.start_run(run_name='ElasticNet Optimization', nested=True):\n",
    "        mlflow.log_params(params)\n",
    "          \n",
    "        pipeline.fit(X_train, y_train)\n",
    "        y_pred = pipeline.predict(X_val)\n",
    "        rmse_optimized = root_mean_squared_error(y_val, y_pred)\n",
    "        mlflow.log_metric('rmse', rmse_optimized)\n",
    "        mlflow.sklearn.log_model(pipeline, 'model')\n",
    "\n",
    "        return {'loss': rmse_optimized, 'status': STATUS_OK}\n",
    "\n",
    "search_space = {\n",
    "    'alpha': hp.uniform('alpha', 0.0001, 0.001),\n",
    "    'l1_ratio': hp.uniform('x_l1', 0, 0.2),\n",
    "    'max_iter': scope.int(hp.quniform('max_iter', 100, 1000, 1)),\n",
    "    'random_state': 42\n",
    "}\n",
    "\n",
    "with mlflow.start_run(run_name='Elasticnet'):\n",
    "    fmin(\n",
    "        fn=objective,\n",
    "        space=search_space,\n",
    "        algo=tpe.suggest,\n",
    "        max_evals=100,\n",
    "        trials=Trials(),\n",
    "        rstate=np.random.default_rng(42)\n",
    "    )\n"
   ]
  },
  {
   "cell_type": "code",
   "execution_count": 58,
   "id": "1469fc69-a064-46dc-a6d1-2e06a938eb25",
   "metadata": {},
   "outputs": [
    {
     "data": {
      "application/vnd.jupyter.widget-view+json": {
       "model_id": "666e74a6934246e598346dc724d6cb12",
       "version_major": 2,
       "version_minor": 0
      },
      "text/plain": [
       "Downloading artifacts:   0%|          | 0/5 [00:00<?, ?it/s]"
      ]
     },
     "metadata": {},
     "output_type": "display_data"
    },
    {
     "name": "stdout",
     "output_type": "stream",
     "text": [
      "Challenger's rmse on test dataset: 417019.35605824785.\n"
     ]
    }
   ],
   "source": [
    "logged_model = 'runs:/69352bca71074a0abbebf5fc4d8abf28/model'\n",
    "\n",
    "# Load model as a PyFuncModel.\n",
    "challenger_model = mlflow.pyfunc.load_model(logged_model)\n",
    "y_pred = challenger_model.predict(df_test)\n",
    "challenger_rmse = root_mean_squared_error(df_test[variables['target']], y_pred)\n",
    "print(f'Challenger\\'s rmse on test dataset: {rmse}.')"
   ]
  },
  {
   "cell_type": "code",
   "execution_count": null,
   "id": "aacef2a4-9872-4510-9d42-15cad21927c4",
   "metadata": {},
   "outputs": [],
   "source": []
  }
 ],
 "metadata": {
  "kernelspec": {
   "display_name": "Python 3 (ipykernel)",
   "language": "python",
   "name": "python3"
  },
  "language_info": {
   "codemirror_mode": {
    "name": "ipython",
    "version": 3
   },
   "file_extension": ".py",
   "mimetype": "text/x-python",
   "name": "python",
   "nbconvert_exporter": "python",
   "pygments_lexer": "ipython3",
   "version": "3.12.2"
  }
 },
 "nbformat": 4,
 "nbformat_minor": 5
}
