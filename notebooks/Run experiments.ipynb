{
 "cells": [
  {
   "cell_type": "markdown",
   "id": "b5d9fd1f-b30f-445c-9a37-8e62af7bc45e",
   "metadata": {},
   "source": [
    "# Introduction\n",
    "This notebook presents the scenario a data scientist working on the creation of a `price prediction model` for the `House Pricing in Belo Horizonte` dataset based on our `Exploratory Data Analysis`.\n",
    "\n",
    "This is a research phase where `mlflow` is used to manually track experiments and decide on a model to run in `production`."
   ]
  },
  {
   "cell_type": "code",
   "execution_count": 1,
   "id": "91e98915-c613-4bf7-9494-6795e9ebf0dc",
   "metadata": {},
   "outputs": [],
   "source": [
    "import logging\n",
    "from os import getenv\n",
    "\n",
    "import awswrangler as wr\n",
    "from hyperopt import fmin, tpe, hp, STATUS_OK, Trials\n",
    "from hyperopt.pyll import scope\n",
    "import mlflow\n",
    "import numpy as np\n",
    "import pandas as pd\n",
    "from sklearn.compose import ColumnTransformer, TransformedTargetRegressor\n",
    "from sklearn.discriminant_analysis import StandardScaler\n",
    "from sklearn.feature_extraction import DictVectorizer\n",
    "from sklearn.linear_model import ElasticNet, Lasso, LinearRegression, Ridge\n",
    "from sklearn.metrics import root_mean_squared_error\n",
    "from sklearn.model_selection import train_test_split\n",
    "from sklearn.pipeline import FunctionTransformer, Pipeline, make_pipeline\n",
    "\n",
    "from library.dataset import get_dataset, split_test_dataset, prepare_features\n",
    "from library.serve import predict\n",
    "from library.train import train_simple_linear_regression\n",
    "\n",
    "S3_ENDPOINT_URL = 'http://localhost:9000'\n",
    "wr.config.s3_endpoint_url = S3_ENDPOINT_URL"
   ]
  },
  {
   "cell_type": "code",
   "execution_count": 2,
   "id": "4e223ac6-6491-4eec-a3cf-9baed276003e",
   "metadata": {},
   "outputs": [],
   "source": [
    "DATASET_PATH = 's3://mlops-datasets/data_kaggle_2021.csv'\n",
    "EXPERIMENT_NAME = 'belo-horizonte-estate-pricing'\n",
    "EXPERIMENT_DESCRIPTION = 'Regression model to predict the price of a real estate property in Belo Horizonte, Brasil '\\\n",
    "    'using the Kaggle Dataset from 2021.'\n",
    "RANDOM_STATE = 42\n",
    "TRACKING_SERVER_URI = getenv('TRACKING_SERVER_URI', 'http://localhost:5000')\n",
    "\n",
    "logging.basicConfig(level=logging.INFO)"
   ]
  },
  {
   "cell_type": "markdown",
   "id": "a5382401-e271-487f-80c4-ef73522c7e69",
   "metadata": {},
   "source": [
    "## Download the dataset and clean it for training"
   ]
  },
  {
   "cell_type": "code",
   "execution_count": 3,
   "id": "e57bc323-4e91-40c4-a9cd-a36a06a6e16a",
   "metadata": {
    "scrolled": true
   },
   "outputs": [
    {
     "name": "stderr",
     "output_type": "stream",
     "text": [
      "INFO:library.dataset:Reading file s3://mlops-datasets/data_kaggle_2021.csv\n",
      "INFO:botocore.credentials:Found credentials in environment variables.\n",
      "INFO:library.dataset:The dataset s3://mlops-datasets/data_kaggle_2021.csv contains 5981 rows.\n",
      "INFO:library.dataset:Cleaning the dataset:\n",
      "INFO:library.dataset:Dropping duplicates...\n",
      "INFO:library.dataset:   Dropped 0 duplicated rows.\n",
      "INFO:library.dataset:Standardizing the column names...\n",
      "INFO:library.dataset:Converting the numeric variables received as text...\n",
      "INFO:library.dataset:Removing outliers...\n",
      "INFO:library.dataset:  Removed 793 rows containing outliers.\n",
      "INFO:library.dataset:Number of rows after cleaning the dataset: 5188\n"
     ]
    },
    {
     "data": {
      "text/html": [
       "<div>\n",
       "<style scoped>\n",
       "    .dataframe tbody tr th:only-of-type {\n",
       "        vertical-align: middle;\n",
       "    }\n",
       "\n",
       "    .dataframe tbody tr th {\n",
       "        vertical-align: top;\n",
       "    }\n",
       "\n",
       "    .dataframe thead th {\n",
       "        text-align: right;\n",
       "    }\n",
       "</style>\n",
       "<table border=\"1\" class=\"dataframe\">\n",
       "  <thead>\n",
       "    <tr style=\"text-align: right;\">\n",
       "      <th></th>\n",
       "      <th>address</th>\n",
       "      <th>adm_fees</th>\n",
       "      <th>garage_places</th>\n",
       "      <th>price</th>\n",
       "      <th>rooms</th>\n",
       "      <th>square_foot</th>\n",
       "      <th>neighborhood</th>\n",
       "      <th>city</th>\n",
       "      <th>latitude</th>\n",
       "      <th>longitude</th>\n",
       "    </tr>\n",
       "  </thead>\n",
       "  <tbody>\n",
       "    <tr>\n",
       "      <th>0</th>\n",
       "      <td>Avenida Raja Gabaglia, 1583</td>\n",
       "      <td>470.0</td>\n",
       "      <td>1</td>\n",
       "      <td>330000.0</td>\n",
       "      <td>1</td>\n",
       "      <td>40</td>\n",
       "      <td>Luxemburgo</td>\n",
       "      <td>Belo Horizonte</td>\n",
       "      <td>-19.936415</td>\n",
       "      <td>-43.953396</td>\n",
       "    </tr>\n",
       "    <tr>\n",
       "      <th>1</th>\n",
       "      <td>Rua Espírito Santo, 1171</td>\n",
       "      <td>0.0</td>\n",
       "      <td>1</td>\n",
       "      <td>480000.0</td>\n",
       "      <td>2</td>\n",
       "      <td>55</td>\n",
       "      <td>Centro</td>\n",
       "      <td>Belo Horizonte</td>\n",
       "      <td>-18.864776</td>\n",
       "      <td>-41.121777</td>\n",
       "    </tr>\n",
       "    <tr>\n",
       "      <th>2</th>\n",
       "      <td>Rua dos Expedicionários, 1082</td>\n",
       "      <td>0.0</td>\n",
       "      <td>5</td>\n",
       "      <td>1190000.0</td>\n",
       "      <td>4</td>\n",
       "      <td>411</td>\n",
       "      <td>Santa Amélia</td>\n",
       "      <td>Belo Horizonte</td>\n",
       "      <td>-20.225241</td>\n",
       "      <td>-44.397780</td>\n",
       "    </tr>\n",
       "    <tr>\n",
       "      <th>3</th>\n",
       "      <td>Rua Marechal Hermes, 81</td>\n",
       "      <td>750.0</td>\n",
       "      <td>4</td>\n",
       "      <td>1590000.0</td>\n",
       "      <td>4</td>\n",
       "      <td>158</td>\n",
       "      <td>Gutierrez</td>\n",
       "      <td>Belo Horizonte</td>\n",
       "      <td>-19.937155</td>\n",
       "      <td>-43.958694</td>\n",
       "    </tr>\n",
       "    <tr>\n",
       "      <th>4</th>\n",
       "      <td>Rua Juruna, 110</td>\n",
       "      <td>0.0</td>\n",
       "      <td>6</td>\n",
       "      <td>550000.0</td>\n",
       "      <td>3</td>\n",
       "      <td>278</td>\n",
       "      <td>Pindorama</td>\n",
       "      <td>Belo Horizonte</td>\n",
       "      <td>-19.912982</td>\n",
       "      <td>-44.019944</td>\n",
       "    </tr>\n",
       "  </tbody>\n",
       "</table>\n",
       "</div>"
      ],
      "text/plain": [
       "                          address  adm_fees  garage_places      price  rooms  \\\n",
       "0    Avenida Raja Gabaglia, 1583      470.0              1   330000.0      1   \n",
       "1       Rua Espírito Santo, 1171        0.0              1   480000.0      2   \n",
       "2  Rua dos Expedicionários, 1082        0.0              5  1190000.0      4   \n",
       "3        Rua Marechal Hermes, 81      750.0              4  1590000.0      4   \n",
       "4                Rua Juruna, 110        0.0              6   550000.0      3   \n",
       "\n",
       "   square_foot  neighborhood             city   latitude  longitude  \n",
       "0           40    Luxemburgo  Belo Horizonte  -19.936415 -43.953396  \n",
       "1           55        Centro  Belo Horizonte  -18.864776 -41.121777  \n",
       "2          411  Santa Amélia  Belo Horizonte  -20.225241 -44.397780  \n",
       "3          158     Gutierrez  Belo Horizonte  -19.937155 -43.958694  \n",
       "4          278     Pindorama  Belo Horizonte  -19.912982 -44.019944  "
      ]
     },
     "execution_count": 3,
     "metadata": {},
     "output_type": "execute_result"
    }
   ],
   "source": [
    "df, variables = get_dataset(DATASET_PATH)\n",
    "\n",
    "df.head()"
   ]
  },
  {
   "cell_type": "markdown",
   "id": "a82873cc-57ee-4cd4-84c5-cdafa14ab501",
   "metadata": {},
   "source": [
    "## Create an experiment in mlflow"
   ]
  },
  {
   "cell_type": "code",
   "execution_count": 4,
   "id": "a734a28a-a34d-4105-b008-6d016d37a194",
   "metadata": {},
   "outputs": [
    {
     "name": "stderr",
     "output_type": "stream",
     "text": [
      "2024/08/19 17:31:49 INFO mlflow.tracking.fluent: Experiment with name 'belo-horizonte-estate-pricing' does not exist. Creating a new experiment.\n"
     ]
    }
   ],
   "source": [
    "mlflow.set_tracking_uri(TRACKING_SERVER_URI)\n",
    "mlflow.set_experiment(EXPERIMENT_NAME)\n",
    "mlflow.set_experiment_tag('mlflow.note.content',EXPERIMENT_DESCRIPTION)"
   ]
  },
  {
   "cell_type": "markdown",
   "id": "bd3e7ee2-70ff-4c17-a303-1e7a35994851",
   "metadata": {},
   "source": [
    "## Split our data into train and test datasets\n",
    "We will save our 20% of our dataset to test and compare the future models."
   ]
  },
  {
   "cell_type": "code",
   "execution_count": 5,
   "id": "275b53fb-7862-4d24-a89b-21ffc43d249d",
   "metadata": {},
   "outputs": [
    {
     "name": "stderr",
     "output_type": "stream",
     "text": [
      "INFO:library.dataset:Splitting the dataset.\n",
      "INFO:library.dataset:Split the dataset into datasets of 4150 and 1038 rows.\n"
     ]
    }
   ],
   "source": [
    "df_train, df_test = split_test_dataset(df, 0.2, RANDOM_STATE)"
   ]
  },
  {
   "cell_type": "markdown",
   "id": "5086c454-b995-4ed1-897a-56bd7232ae8c",
   "metadata": {},
   "source": [
    "## Train our base model\n",
    "Train a simple linear regression for future reference."
   ]
  },
  {
   "cell_type": "code",
   "execution_count": 6,
   "id": "8d9fcc48-795a-49f0-8252-1f850d59ff27",
   "metadata": {},
   "outputs": [],
   "source": [
    "model_data = train_simple_linear_regression(df_train, variables)"
   ]
  },
  {
   "cell_type": "markdown",
   "id": "6fdb6fe8-c281-4532-b8c7-f4c94fe36079",
   "metadata": {},
   "source": [
    "## Add the model to the model registry\n",
    "We will register our base model in the model registry and give it the `@base` alias. Since it is also our only model, it is also our de facto `@champion`. This way, we will have future challengers try and defeat it."
   ]
  },
  {
   "cell_type": "code",
   "execution_count": 7,
   "id": "1a6f48ea-1952-47d1-9833-1892b7b89624",
   "metadata": {
    "scrolled": true
   },
   "outputs": [
    {
     "name": "stderr",
     "output_type": "stream",
     "text": [
      "Successfully registered model 'belo-horizonte-estate-pricing'.\n",
      "2024/08/19 17:31:54 INFO mlflow.store.model_registry.abstract_store: Waiting up to 300 seconds for model version to finish creation. Model name: belo-horizonte-estate-pricing, version 1\n",
      "Created version '1' of model 'belo-horizonte-estate-pricing'.\n"
     ]
    }
   ],
   "source": [
    "MODEL_NAME = EXPERIMENT_NAME\n",
    "model_uri = f'runs:/{model_data[0]}/model'\n",
    "\n",
    "registered_model = mlflow.register_model(\n",
    "    model_uri=model_uri,\n",
    "    name=MODEL_NAME,\n",
    "    tags={'mlflow.user': 'Quentin El Guay'}\n",
    ")\n",
    "\n",
    "client = mlflow.MlflowClient()\n",
    "client.set_registered_model_alias(registered_model.name, 'base', registered_model.version)\n",
    "client.set_registered_model_alias(registered_model.name, 'champion', registered_model.version)"
   ]
  },
  {
   "cell_type": "markdown",
   "id": "7a97cf4d-3235-4476-b8e0-cfc545aac630",
   "metadata": {},
   "source": [
    "## Use the registered model to predict a price"
   ]
  },
  {
   "cell_type": "code",
   "execution_count": 8,
   "id": "9c21eb45-0c66-4ccd-a9d6-079a1119c89d",
   "metadata": {},
   "outputs": [
    {
     "name": "stderr",
     "output_type": "stream",
     "text": [
      "INFO:library.dataset:Standardizing the column names...\n",
      "INFO:library.dataset:Converting the numeric variables received as text...\n"
     ]
    }
   ],
   "source": [
    "inputs = {\n",
    "        'adm_fees': '',\n",
    "        'neighborhood': 'Miramar',\n",
    "        'square_foot': '79',\n",
    "        'rooms': '2',\n",
    "        'garage_places': '--',\n",
    "    }\n",
    "\n",
    "X = prepare_features(inputs)"
   ]
  },
  {
   "cell_type": "code",
   "execution_count": 9,
   "id": "0efe14be-996a-43ba-a58f-686e55d276af",
   "metadata": {
    "scrolled": true
   },
   "outputs": [
    {
     "data": {
      "application/vnd.jupyter.widget-view+json": {
       "model_id": "56dfa690bbc34d29973d023d86820faf",
       "version_major": 2,
       "version_minor": 0
      },
      "text/plain": [
       "Downloading artifacts:   0%|          | 0/5 [00:00<?, ?it/s]"
      ]
     },
     "metadata": {},
     "output_type": "display_data"
    },
    {
     "name": "stdout",
     "output_type": "stream",
     "text": [
      "Predicted value: BRL 224973.66\n"
     ]
    }
   ],
   "source": [
    "model_uri = f'models:/{MODEL_NAME}@champion'\n",
    "try:\n",
    "    model = mlflow.pyfunc.load_model(model_uri)\n",
    "\n",
    "except ConnectionError:\n",
    "    logger.warning('Unable to connect to MLFlow.')\n",
    "    model = load_model_from_s3(MODEL_NAME)\n",
    "\n",
    "print(f'Predicted value: BRL {round(model.predict(X)[0], 2)}')"
   ]
  }
 ],
 "metadata": {
  "kernelspec": {
   "display_name": "Python 3 (ipykernel)",
   "language": "python",
   "name": "python3"
  },
  "language_info": {
   "codemirror_mode": {
    "name": "ipython",
    "version": 3
   },
   "file_extension": ".py",
   "mimetype": "text/x-python",
   "name": "python",
   "nbconvert_exporter": "python",
   "pygments_lexer": "ipython3",
   "version": "3.12.2"
  }
 },
 "nbformat": 4,
 "nbformat_minor": 5
}
